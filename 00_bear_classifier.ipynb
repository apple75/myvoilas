{
 "cells": [
  {
   "cell_type": "code",
   "execution_count": 1,
   "metadata": {},
   "outputs": [
    {
     "name": "stderr",
     "output_type": "stream",
     "text": [
      "'[' �����ڲ����ⲿ���Ҳ���ǿ����еĳ���\n",
      "���������ļ���\n"
     ]
    }
   ],
   "source": [
    "#hide\n",
    "! [ -e /content ] && pip install -Uqq fastbook\n",
    "import fastbook\n",
    "fastbook.setup_book()"
   ]
  },
  {
   "cell_type": "code",
   "execution_count": 2,
   "metadata": {},
   "outputs": [],
   "source": [
    "#hide\n",
    "from fastbook import *\n",
    "from fastai.vision.widgets import *"
   ]
  },
  {
   "cell_type": "code",
   "execution_count": 3,
   "metadata": {},
   "outputs": [],
   "source": [
    "from fastai.vision import *\n",
    "import os\n",
    "# 假设 learn 是你的学习对象\n",
    "# learn = ...\n",
    "\n",
    "# 指定保存模型的目录路径\n",
    "export_dir = 'models/'\n",
    "\n",
    "# 指定导出模型的文件名\n",
    "model_path = r'bears_classify.pkl'\n",
    "\n",
    "# 完整的文件路径\n",
    "full_path = os.path.join(export_dir, model_path)\n",
    "learn_inf = load_learner(full_path)"
   ]
  },
  {
   "cell_type": "code",
   "execution_count": 4,
   "metadata": {},
   "outputs": [],
   "source": [
    "#hide_output\n",
    "#btn_upload = widgets.FileUpload()\n",
    "#btn_upload"
   ]
  },
  {
   "cell_type": "code",
   "execution_count": 5,
   "metadata": {},
   "outputs": [],
   "source": [
    "#uploaded_file = btn_upload.value\n",
    "\n",
    "# 检查是否有文件被上传\n",
    "#if uploaded_file:\n",
    "    # uploaded_file 是一个字典，其中包含上传文件的信息\n",
    "    # 我们可以通过 'content' 键来获取文件的二进制内容\n",
    "#    file_content = uploaded_file[-1]['content']  # 获取最后一个文件的内容\n",
    "\n",
    "    # 使用 io.BytesIO 创建一个文件类对象\n",
    "#    file_like_object = io.BytesIO(file_content)\n",
    "\n",
    "    # 使用 PIL 打开图像文件\n",
    "#    img = Image.open(file_like_object)\n",
    "\n",
    "    # 现在 img 是一个 PILImage 对象，你可以对其进行操作\n",
    "    # 例如，显示图像\n",
    "#    img.show()"
   ]
  },
  {
   "cell_type": "code",
   "execution_count": 6,
   "metadata": {},
   "outputs": [],
   "source": [
    "#hide_output\n",
    "out_pl = widgets.Output()\n",
    "out_pl.clear_output()\n",
    "#with out_pl: display(img.to_thumb(128,128))\n",
    "#out_pl"
   ]
  },
  {
   "cell_type": "code",
   "execution_count": 7,
   "metadata": {},
   "outputs": [
    {
     "data": {
      "text/html": [
       "\n",
       "<style>\n",
       "    /* Turns off some styling */\n",
       "    progress {\n",
       "        /* gets rid of default border in Firefox and Opera. */\n",
       "        border: none;\n",
       "        /* Needs to be in here for Safari polyfill so background images work as expected. */\n",
       "        background-size: auto;\n",
       "    }\n",
       "    progress:not([value]), progress:not([value])::-webkit-progress-bar {\n",
       "        background: repeating-linear-gradient(45deg, #7e7e7e, #7e7e7e 10px, #5c5c5c 10px, #5c5c5c 20px);\n",
       "    }\n",
       "    .progress-bar-interrupted, .progress-bar-interrupted::-webkit-progress-bar {\n",
       "        background: #F44336;\n",
       "    }\n",
       "</style>\n"
      ],
      "text/plain": [
       "<IPython.core.display.HTML object>"
      ]
     },
     "metadata": {},
     "output_type": "display_data"
    },
    {
     "data": {
      "text/html": [],
      "text/plain": [
       "<IPython.core.display.HTML object>"
      ]
     },
     "metadata": {},
     "output_type": "display_data"
    }
   ],
   "source": [
    "\n",
    "pred,pred_idx,probs = learn_inf.predict('images/grizzly.jpg')"
   ]
  },
  {
   "cell_type": "code",
   "execution_count": 8,
   "metadata": {},
   "outputs": [],
   "source": [
    "#hide_output\n",
    "lbl_pred = widgets.Label()\n",
    "lbl_pred.value = f'Prediction: {pred}; Probability: {probs[pred_idx]:.04f}'\n",
    "#lbl_pred"
   ]
  },
  {
   "cell_type": "code",
   "execution_count": 9,
   "metadata": {},
   "outputs": [],
   "source": [
    "#hide_output\n",
    "btn_run = widgets.Button(description='Classify')\n",
    "#btn_run"
   ]
  },
  {
   "cell_type": "code",
   "execution_count": 10,
   "metadata": {},
   "outputs": [],
   "source": [
    "#def on_click_classify(change):\n",
    "#    img = PILImage.create(btn_upload.data[-1])\n",
    "#    out_pl.clear_output()\n",
    "#    with out_pl: display(img.to_thumb(128,128))\n",
    "#    pred,pred_idx,probs = learn_inf.predict(img)\n",
    "#    lbl_pred.value = f'Prediction: {pred}; Probability: {probs[pred_idx]:.04f}'\n",
    "\n",
    "#btn_run.on_click(on_click_classify)\n",
    "\n",
    "from PIL import Image\n",
    "import io\n",
    "from IPython.display import display, clear_output\n",
    "from ipywidgets import FileUpload, widgets\n",
    "\n",
    "# 假设你已经定义了 learn_inf, out_pl, lbl_pred, btn_run 等变量\n",
    "\n",
    "def on_click_classify(change):\n",
    "    # 检查是否有文件被上传\n",
    "    if btn_upload.value:\n",
    "        # btn_upload.value 是一个列表，其中包含上传文件的信息\n",
    "        # 我们可以通过索引来获取最后一个文件的信息\n",
    "        file_info = btn_upload.value[-1]  # 获取最后一个文件的信息\n",
    "\n",
    "        # file_info 是一个字典，其中包含文件的二进制内容\n",
    "        file_content = file_info['content']  # 获取文件的二进制内容\n",
    "\n",
    "        # 使用 io.BytesIO 创建一个文件类对象\n",
    "        file_like_object = io.BytesIO(file_content)\n",
    "\n",
    "        # 使用 PIL 打开图像文件\n",
    "        img = Image.open(file_like_object)\n",
    "\n",
    "        # 清除输出区域\n",
    "        out_pl.clear_output()\n",
    "\n",
    "        # 在输出区域显示图像\n",
    "        with out_pl: \n",
    "            display(img.resize((128, 128)))  # 使用 resize 而不是 to_thumb\n",
    "\n",
    "        # 假设 learn_inf.predict 接受一个 PILImage 对象并返回预测结果\n",
    "        pred, pred_idx, probs = learn_inf.predict(img)\n",
    "        lbl_pred.value = f'Prediction: {pred}; Probability: {probs[pred_idx]:.04f}'\n",
    "\n",
    "# 将 on_click_classify 函数绑定到按钮的点击事件\n",
    "btn_run.on_click(on_click_classify)"
   ]
  },
  {
   "cell_type": "code",
   "execution_count": 11,
   "metadata": {},
   "outputs": [],
   "source": [
    "#hide\n",
    "#Putting back btn_upload to a widget for next cell\n",
    "btn_upload = widgets.FileUpload()"
   ]
  },
  {
   "cell_type": "code",
   "execution_count": 12,
   "metadata": {},
   "outputs": [
    {
     "data": {
      "application/vnd.jupyter.widget-view+json": {
       "model_id": "a46cce6481e14a54a438831cd1658cdb",
       "version_major": 2,
       "version_minor": 0
      },
      "text/plain": [
       "VBox(children=(Label(value='Select your bear!'), FileUpload(value=(), description='Upload'), Button(descriptio…"
      ]
     },
     "execution_count": 12,
     "metadata": {},
     "output_type": "execute_result"
    }
   ],
   "source": [
    "#hide_output\n",
    "VBox([widgets.Label('Select your bear!'),\n",
    "      btn_upload, btn_run, out_pl, lbl_pred])"
   ]
  },
  {
   "cell_type": "code",
   "execution_count": 13,
   "metadata": {},
   "outputs": [
    {
     "name": "stdout",
     "output_type": "stream",
     "text": [
      "Defaulting to user installation because normal site-packages is not writeable\n",
      "Looking in indexes: https://pypi.tuna.tsinghua.edu.cn/simple\n",
      "Requirement already satisfied: voila in c:\\users\\administrator\\appdata\\roaming\\python\\python312\\site-packages (0.5.8)\n",
      "Requirement already satisfied: jupyter-client<9,>=7.4.4 in e:\\anaconda\\envs\\fastai\\lib\\site-packages (from voila) (8.6.0)\n",
      "Requirement already satisfied: jupyter-core>=4.11.0 in e:\\anaconda\\envs\\fastai\\lib\\site-packages (from voila) (5.7.2)\n",
      "Requirement already satisfied: jupyter-server<3,>=1.18 in c:\\users\\administrator\\appdata\\roaming\\python\\python312\\site-packages (from voila) (2.14.2)\n",
      "Requirement already satisfied: jupyterlab-server<3,>=2.3.0 in c:\\users\\administrator\\appdata\\roaming\\python\\python312\\site-packages (from voila) (2.27.3)\n",
      "Requirement already satisfied: nbclient>=0.4.0 in c:\\users\\administrator\\appdata\\roaming\\python\\python312\\site-packages (from voila) (0.10.0)\n",
      "Requirement already satisfied: nbconvert<8,>=6.4.5 in c:\\users\\administrator\\appdata\\roaming\\python\\python312\\site-packages (from voila) (7.16.4)\n",
      "Requirement already satisfied: traitlets<6,>=5.0.3 in e:\\anaconda\\envs\\fastai\\lib\\site-packages (from voila) (5.14.3)\n",
      "Requirement already satisfied: websockets>=9.0 in c:\\users\\administrator\\appdata\\roaming\\python\\python312\\site-packages (from voila) (14.1)\n",
      "Requirement already satisfied: python-dateutil>=2.8.2 in e:\\anaconda\\envs\\fastai\\lib\\site-packages (from jupyter-client<9,>=7.4.4->voila) (2.9.0.post0)\n",
      "Requirement already satisfied: pyzmq>=23.0 in e:\\anaconda\\envs\\fastai\\lib\\site-packages (from jupyter-client<9,>=7.4.4->voila) (25.1.2)\n",
      "Requirement already satisfied: tornado>=6.2 in e:\\anaconda\\envs\\fastai\\lib\\site-packages (from jupyter-client<9,>=7.4.4->voila) (6.4.1)\n",
      "Requirement already satisfied: platformdirs>=2.5 in e:\\anaconda\\envs\\fastai\\lib\\site-packages (from jupyter-core>=4.11.0->voila) (3.10.0)\n",
      "Requirement already satisfied: pywin32>=300 in e:\\anaconda\\envs\\fastai\\lib\\site-packages (from jupyter-core>=4.11.0->voila) (305.1)\n",
      "Requirement already satisfied: anyio>=3.1.0 in c:\\users\\administrator\\appdata\\roaming\\python\\python312\\site-packages (from jupyter-server<3,>=1.18->voila) (4.6.2.post1)\n",
      "Requirement already satisfied: argon2-cffi>=21.1 in c:\\users\\administrator\\appdata\\roaming\\python\\python312\\site-packages (from jupyter-server<3,>=1.18->voila) (23.1.0)\n",
      "Requirement already satisfied: jinja2>=3.0.3 in e:\\anaconda\\envs\\fastai\\lib\\site-packages (from jupyter-server<3,>=1.18->voila) (3.1.4)\n",
      "Requirement already satisfied: jupyter-events>=0.9.0 in c:\\users\\administrator\\appdata\\roaming\\python\\python312\\site-packages (from jupyter-server<3,>=1.18->voila) (0.10.0)\n",
      "Requirement already satisfied: jupyter-server-terminals>=0.4.4 in c:\\users\\administrator\\appdata\\roaming\\python\\python312\\site-packages (from jupyter-server<3,>=1.18->voila) (0.5.3)\n",
      "Requirement already satisfied: nbformat>=5.3.0 in c:\\users\\administrator\\appdata\\roaming\\python\\python312\\site-packages (from jupyter-server<3,>=1.18->voila) (5.10.4)\n",
      "Requirement already satisfied: overrides>=5.0 in c:\\users\\administrator\\appdata\\roaming\\python\\python312\\site-packages (from jupyter-server<3,>=1.18->voila) (7.7.0)\n",
      "Requirement already satisfied: packaging>=22.0 in e:\\anaconda\\envs\\fastai\\lib\\site-packages (from jupyter-server<3,>=1.18->voila) (24.1)\n",
      "Requirement already satisfied: prometheus-client>=0.9 in c:\\users\\administrator\\appdata\\roaming\\python\\python312\\site-packages (from jupyter-server<3,>=1.18->voila) (0.21.0)\n",
      "Requirement already satisfied: pywinpty>=2.0.1 in c:\\users\\administrator\\appdata\\roaming\\python\\python312\\site-packages (from jupyter-server<3,>=1.18->voila) (2.0.14)\n",
      "Requirement already satisfied: send2trash>=1.8.2 in c:\\users\\administrator\\appdata\\roaming\\python\\python312\\site-packages (from jupyter-server<3,>=1.18->voila) (1.8.3)\n",
      "Requirement already satisfied: terminado>=0.8.3 in c:\\users\\administrator\\appdata\\roaming\\python\\python312\\site-packages (from jupyter-server<3,>=1.18->voila) (0.18.1)\n",
      "Requirement already satisfied: websocket-client>=1.7 in c:\\users\\administrator\\appdata\\roaming\\python\\python312\\site-packages (from jupyter-server<3,>=1.18->voila) (1.8.0)\n",
      "Requirement already satisfied: babel>=2.10 in c:\\users\\administrator\\appdata\\roaming\\python\\python312\\site-packages (from jupyterlab-server<3,>=2.3.0->voila) (2.16.0)\n",
      "Requirement already satisfied: json5>=0.9.0 in c:\\users\\administrator\\appdata\\roaming\\python\\python312\\site-packages (from jupyterlab-server<3,>=2.3.0->voila) (0.9.28)\n",
      "Requirement already satisfied: jsonschema>=4.18.0 in c:\\users\\administrator\\appdata\\roaming\\python\\python312\\site-packages (from jupyterlab-server<3,>=2.3.0->voila) (4.23.0)\n",
      "Requirement already satisfied: requests>=2.31 in e:\\anaconda\\envs\\fastai\\lib\\site-packages (from jupyterlab-server<3,>=2.3.0->voila) (2.32.3)\n",
      "Requirement already satisfied: beautifulsoup4 in c:\\users\\administrator\\appdata\\roaming\\python\\python312\\site-packages (from nbconvert<8,>=6.4.5->voila) (4.12.3)\n",
      "Requirement already satisfied: bleach!=5.0.0 in c:\\users\\administrator\\appdata\\roaming\\python\\python312\\site-packages (from nbconvert<8,>=6.4.5->voila) (6.2.0)\n",
      "Requirement already satisfied: defusedxml in c:\\users\\administrator\\appdata\\roaming\\python\\python312\\site-packages (from nbconvert<8,>=6.4.5->voila) (0.7.1)\n",
      "Requirement already satisfied: jupyterlab-pygments in c:\\users\\administrator\\appdata\\roaming\\python\\python312\\site-packages (from nbconvert<8,>=6.4.5->voila) (0.3.0)\n",
      "Requirement already satisfied: markupsafe>=2.0 in e:\\anaconda\\envs\\fastai\\lib\\site-packages (from nbconvert<8,>=6.4.5->voila) (2.1.3)\n",
      "Requirement already satisfied: mistune<4,>=2.0.3 in c:\\users\\administrator\\appdata\\roaming\\python\\python312\\site-packages (from nbconvert<8,>=6.4.5->voila) (3.0.2)\n",
      "Requirement already satisfied: pandocfilters>=1.4.1 in c:\\users\\administrator\\appdata\\roaming\\python\\python312\\site-packages (from nbconvert<8,>=6.4.5->voila) (1.5.1)\n",
      "Requirement already satisfied: pygments>=2.4.1 in e:\\anaconda\\envs\\fastai\\lib\\site-packages (from nbconvert<8,>=6.4.5->voila) (2.15.1)\n",
      "Requirement already satisfied: tinycss2 in c:\\users\\administrator\\appdata\\roaming\\python\\python312\\site-packages (from nbconvert<8,>=6.4.5->voila) (1.4.0)\n",
      "Requirement already satisfied: idna>=2.8 in e:\\anaconda\\envs\\fastai\\lib\\site-packages (from anyio>=3.1.0->jupyter-server<3,>=1.18->voila) (3.7)\n",
      "Requirement already satisfied: sniffio>=1.1 in c:\\users\\administrator\\appdata\\roaming\\python\\python312\\site-packages (from anyio>=3.1.0->jupyter-server<3,>=1.18->voila) (1.3.1)\n",
      "Requirement already satisfied: argon2-cffi-bindings in c:\\users\\administrator\\appdata\\roaming\\python\\python312\\site-packages (from argon2-cffi>=21.1->jupyter-server<3,>=1.18->voila) (21.2.0)\n",
      "Requirement already satisfied: webencodings in c:\\users\\administrator\\appdata\\roaming\\python\\python312\\site-packages (from bleach!=5.0.0->nbconvert<8,>=6.4.5->voila) (0.5.1)\n",
      "Requirement already satisfied: attrs>=22.2.0 in e:\\anaconda\\envs\\fastai\\lib\\site-packages (from jsonschema>=4.18.0->jupyterlab-server<3,>=2.3.0->voila) (24.2.0)\n",
      "Requirement already satisfied: jsonschema-specifications>=2023.03.6 in c:\\users\\administrator\\appdata\\roaming\\python\\python312\\site-packages (from jsonschema>=4.18.0->jupyterlab-server<3,>=2.3.0->voila) (2024.10.1)\n",
      "Requirement already satisfied: referencing>=0.28.4 in c:\\users\\administrator\\appdata\\roaming\\python\\python312\\site-packages (from jsonschema>=4.18.0->jupyterlab-server<3,>=2.3.0->voila) (0.35.1)\n",
      "Requirement already satisfied: rpds-py>=0.7.1 in c:\\users\\administrator\\appdata\\roaming\\python\\python312\\site-packages (from jsonschema>=4.18.0->jupyterlab-server<3,>=2.3.0->voila) (0.21.0)\n",
      "Requirement already satisfied: python-json-logger>=2.0.4 in c:\\users\\administrator\\appdata\\roaming\\python\\python312\\site-packages (from jupyter-events>=0.9.0->jupyter-server<3,>=1.18->voila) (2.0.7)\n",
      "Requirement already satisfied: pyyaml>=5.3 in e:\\anaconda\\envs\\fastai\\lib\\site-packages (from jupyter-events>=0.9.0->jupyter-server<3,>=1.18->voila) (6.0.2)\n",
      "Requirement already satisfied: rfc3339-validator in c:\\users\\administrator\\appdata\\roaming\\python\\python312\\site-packages (from jupyter-events>=0.9.0->jupyter-server<3,>=1.18->voila) (0.1.4)\n",
      "Requirement already satisfied: rfc3986-validator>=0.1.1 in c:\\users\\administrator\\appdata\\roaming\\python\\python312\\site-packages (from jupyter-events>=0.9.0->jupyter-server<3,>=1.18->voila) (0.1.1)\n",
      "Requirement already satisfied: fastjsonschema>=2.15 in c:\\users\\administrator\\appdata\\roaming\\python\\python312\\site-packages (from nbformat>=5.3.0->jupyter-server<3,>=1.18->voila) (2.20.0)\n",
      "Requirement already satisfied: six>=1.5 in e:\\anaconda\\envs\\fastai\\lib\\site-packages (from python-dateutil>=2.8.2->jupyter-client<9,>=7.4.4->voila) (1.16.0)\n",
      "Requirement already satisfied: charset-normalizer<4,>=2 in e:\\anaconda\\envs\\fastai\\lib\\site-packages (from requests>=2.31->jupyterlab-server<3,>=2.3.0->voila) (3.3.2)\n",
      "Requirement already satisfied: urllib3<3,>=1.21.1 in e:\\anaconda\\envs\\fastai\\lib\\site-packages (from requests>=2.31->jupyterlab-server<3,>=2.3.0->voila) (2.2.3)\n",
      "Requirement already satisfied: certifi>=2017.4.17 in e:\\anaconda\\envs\\fastai\\lib\\site-packages (from requests>=2.31->jupyterlab-server<3,>=2.3.0->voila) (2024.8.30)\n",
      "Requirement already satisfied: soupsieve>1.2 in c:\\users\\administrator\\appdata\\roaming\\python\\python312\\site-packages (from beautifulsoup4->nbconvert<8,>=6.4.5->voila) (2.6)\n",
      "Requirement already satisfied: fqdn in c:\\users\\administrator\\appdata\\roaming\\python\\python312\\site-packages (from jsonschema[format-nongpl]>=4.18.0->jupyter-events>=0.9.0->jupyter-server<3,>=1.18->voila) (1.5.1)\n",
      "Requirement already satisfied: isoduration in c:\\users\\administrator\\appdata\\roaming\\python\\python312\\site-packages (from jsonschema[format-nongpl]>=4.18.0->jupyter-events>=0.9.0->jupyter-server<3,>=1.18->voila) (20.11.0)\n",
      "Requirement already satisfied: jsonpointer>1.13 in c:\\users\\administrator\\appdata\\roaming\\python\\python312\\site-packages (from jsonschema[format-nongpl]>=4.18.0->jupyter-events>=0.9.0->jupyter-server<3,>=1.18->voila) (3.0.0)\n",
      "Requirement already satisfied: uri-template in c:\\users\\administrator\\appdata\\roaming\\python\\python312\\site-packages (from jsonschema[format-nongpl]>=4.18.0->jupyter-events>=0.9.0->jupyter-server<3,>=1.18->voila) (1.3.0)\n",
      "Requirement already satisfied: webcolors>=24.6.0 in c:\\users\\administrator\\appdata\\roaming\\python\\python312\\site-packages (from jsonschema[format-nongpl]>=4.18.0->jupyter-events>=0.9.0->jupyter-server<3,>=1.18->voila) (24.11.1)\n",
      "Requirement already satisfied: cffi>=1.0.1 in c:\\users\\administrator\\appdata\\roaming\\python\\python312\\site-packages (from argon2-cffi-bindings->argon2-cffi>=21.1->jupyter-server<3,>=1.18->voila) (1.17.1)\n",
      "Requirement already satisfied: pycparser in c:\\users\\administrator\\appdata\\roaming\\python\\python312\\site-packages (from cffi>=1.0.1->argon2-cffi-bindings->argon2-cffi>=21.1->jupyter-server<3,>=1.18->voila) (2.22)\n",
      "Requirement already satisfied: arrow>=0.15.0 in c:\\users\\administrator\\appdata\\roaming\\python\\python312\\site-packages (from isoduration->jsonschema[format-nongpl]>=4.18.0->jupyter-events>=0.9.0->jupyter-server<3,>=1.18->voila) (1.3.0)\n",
      "Requirement already satisfied: types-python-dateutil>=2.8.10 in c:\\users\\administrator\\appdata\\roaming\\python\\python312\\site-packages (from arrow>=0.15.0->isoduration->jsonschema[format-nongpl]>=4.18.0->jupyter-events>=0.9.0->jupyter-server<3,>=1.18->voila) (2.9.0.20241003)\n"
     ]
    },
    {
     "name": "stderr",
     "output_type": "stream",
     "text": [
      "usage: jupyter [-h] [--version] [--config-dir] [--data-dir] [--runtime-dir]\n",
      "               [--paths] [--json] [--debug]\n",
      "               [subcommand]\n",
      "\n",
      "Jupyter: Interactive Computing\n",
      "\n",
      "positional arguments:\n",
      "  subcommand     the subcommand to launch\n",
      "\n",
      "options:\n",
      "  -h, --help     show this help message and exit\n",
      "  --version      show the versions of core jupyter packages and exit\n",
      "  --config-dir   show Jupyter config dir\n",
      "  --data-dir     show Jupyter data dir\n",
      "  --runtime-dir  show Jupyter runtime dir\n",
      "  --paths        show all Jupyter paths. Add --json for machine-readable\n",
      "                 format.\n",
      "  --json         output paths as machine-readable json\n",
      "  --debug        output debug information about paths\n",
      "\n",
      "Available subcommands: kernel kernelspec migrate run script troubleshoot\n",
      "\n",
      "Jupyter command `jupyter-serverextension` not found.\n"
     ]
    }
   ],
   "source": [
    "#hide\n",
    "!pip install voila\n",
    "!jupyter serverextension enable --sys-prefix voila"
   ]
  }
 ],
 "metadata": {
  "kernelspec": {
   "display_name": "fastai",
   "language": "python",
   "name": "python3"
  },
  "language_info": {
   "codemirror_mode": {
    "name": "ipython",
    "version": 3
   },
   "file_extension": ".py",
   "mimetype": "text/x-python",
   "name": "python",
   "nbconvert_exporter": "python",
   "pygments_lexer": "ipython3",
   "version": "3.12.7"
  }
 },
 "nbformat": 4,
 "nbformat_minor": 2
}
